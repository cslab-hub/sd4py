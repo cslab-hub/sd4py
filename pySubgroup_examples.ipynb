{
 "cells": [
  {
   "cell_type": "code",
   "execution_count": 2,
   "metadata": {},
   "outputs": [],
   "source": [
    "import sd4py"
   ]
  },
  {
   "cell_type": "code",
   "execution_count": 3,
   "metadata": {},
   "outputs": [],
   "source": [
    "import numpy as np\n",
    "import pandas as pd"
   ]
  },
  {
   "cell_type": "markdown",
   "metadata": {},
   "source": [
    "## Generate some data for testing\n",
    "\n",
    "The code below generates a pandas dataframe with a variety of different data types "
   ]
  },
  {
   "cell_type": "code",
   "execution_count": 4,
   "metadata": {},
   "outputs": [],
   "source": [
    "df2 = pd.DataFrame(\n",
    "    {\n",
    "        \"A\": pd.Series(np.random.randn(100), dtype=\"float16\"),\n",
    "        \"B\": pd.Series(np.random.randn(100)),\n",
    "        \"C\": pd.Series(np.array(np.random.randn(100), dtype=\"uint8\")),\n",
    "        \"D\": [\"foo\"]*50 + [\"bar\"]*50,\n",
    "        \"E\": pd.date_range(\"2018-01-01\", periods=100, freq=\"H\"),\n",
    "        \"G\": ([1]*5 + [10]*3 + [5,5]) * 10,\n",
    "        \"H\": [pd.Timedelta(hours=x) for x in [1,3,2,6,5,2,5,9,1,6]*10],\n",
    "        \"I\": [True, False] * 50\n",
    "    }\n",
    ")"
   ]
  },
  {
   "cell_type": "code",
   "execution_count": 5,
   "metadata": {},
   "outputs": [
    {
     "output_type": "execute_result",
     "data": {
      "text/plain": [
       "           A         B  C    D                   E   G               H      I\n",
       "0  -0.023346 -0.908445  0  foo 2018-01-01 00:00:00   1 0 days 01:00:00   True\n",
       "1  -1.632812  1.654652  0  foo 2018-01-01 01:00:00   1 0 days 03:00:00  False\n",
       "2   1.100586 -1.161146  0  foo 2018-01-01 02:00:00   1 0 days 02:00:00   True\n",
       "3  -0.855469 -1.077292  0  foo 2018-01-01 03:00:00   1 0 days 06:00:00  False\n",
       "4   0.292725 -1.360608  1  foo 2018-01-01 04:00:00   1 0 days 05:00:00   True\n",
       "..       ...       ... ..  ...                 ...  ..             ...    ...\n",
       "95 -0.319336 -1.231090  0  bar 2018-01-04 23:00:00  10 0 days 02:00:00  False\n",
       "96  0.202759 -0.207234  0  bar 2018-01-05 00:00:00  10 0 days 05:00:00   True\n",
       "97 -0.211304 -0.261575  2  bar 2018-01-05 01:00:00  10 0 days 09:00:00  False\n",
       "98 -1.298828  0.682877  0  bar 2018-01-05 02:00:00   5 0 days 01:00:00   True\n",
       "99 -0.895508 -0.099314  0  bar 2018-01-05 03:00:00   5 0 days 06:00:00  False\n",
       "\n",
       "[100 rows x 8 columns]"
      ],
      "text/html": "<div>\n<style scoped>\n    .dataframe tbody tr th:only-of-type {\n        vertical-align: middle;\n    }\n\n    .dataframe tbody tr th {\n        vertical-align: top;\n    }\n\n    .dataframe thead th {\n        text-align: right;\n    }\n</style>\n<table border=\"1\" class=\"dataframe\">\n  <thead>\n    <tr style=\"text-align: right;\">\n      <th></th>\n      <th>A</th>\n      <th>B</th>\n      <th>C</th>\n      <th>D</th>\n      <th>E</th>\n      <th>G</th>\n      <th>H</th>\n      <th>I</th>\n    </tr>\n  </thead>\n  <tbody>\n    <tr>\n      <th>0</th>\n      <td>-0.023346</td>\n      <td>-0.908445</td>\n      <td>0</td>\n      <td>foo</td>\n      <td>2018-01-01 00:00:00</td>\n      <td>1</td>\n      <td>0 days 01:00:00</td>\n      <td>True</td>\n    </tr>\n    <tr>\n      <th>1</th>\n      <td>-1.632812</td>\n      <td>1.654652</td>\n      <td>0</td>\n      <td>foo</td>\n      <td>2018-01-01 01:00:00</td>\n      <td>1</td>\n      <td>0 days 03:00:00</td>\n      <td>False</td>\n    </tr>\n    <tr>\n      <th>2</th>\n      <td>1.100586</td>\n      <td>-1.161146</td>\n      <td>0</td>\n      <td>foo</td>\n      <td>2018-01-01 02:00:00</td>\n      <td>1</td>\n      <td>0 days 02:00:00</td>\n      <td>True</td>\n    </tr>\n    <tr>\n      <th>3</th>\n      <td>-0.855469</td>\n      <td>-1.077292</td>\n      <td>0</td>\n      <td>foo</td>\n      <td>2018-01-01 03:00:00</td>\n      <td>1</td>\n      <td>0 days 06:00:00</td>\n      <td>False</td>\n    </tr>\n    <tr>\n      <th>4</th>\n      <td>0.292725</td>\n      <td>-1.360608</td>\n      <td>1</td>\n      <td>foo</td>\n      <td>2018-01-01 04:00:00</td>\n      <td>1</td>\n      <td>0 days 05:00:00</td>\n      <td>True</td>\n    </tr>\n    <tr>\n      <th>...</th>\n      <td>...</td>\n      <td>...</td>\n      <td>...</td>\n      <td>...</td>\n      <td>...</td>\n      <td>...</td>\n      <td>...</td>\n      <td>...</td>\n    </tr>\n    <tr>\n      <th>95</th>\n      <td>-0.319336</td>\n      <td>-1.231090</td>\n      <td>0</td>\n      <td>bar</td>\n      <td>2018-01-04 23:00:00</td>\n      <td>10</td>\n      <td>0 days 02:00:00</td>\n      <td>False</td>\n    </tr>\n    <tr>\n      <th>96</th>\n      <td>0.202759</td>\n      <td>-0.207234</td>\n      <td>0</td>\n      <td>bar</td>\n      <td>2018-01-05 00:00:00</td>\n      <td>10</td>\n      <td>0 days 05:00:00</td>\n      <td>True</td>\n    </tr>\n    <tr>\n      <th>97</th>\n      <td>-0.211304</td>\n      <td>-0.261575</td>\n      <td>2</td>\n      <td>bar</td>\n      <td>2018-01-05 01:00:00</td>\n      <td>10</td>\n      <td>0 days 09:00:00</td>\n      <td>False</td>\n    </tr>\n    <tr>\n      <th>98</th>\n      <td>-1.298828</td>\n      <td>0.682877</td>\n      <td>0</td>\n      <td>bar</td>\n      <td>2018-01-05 02:00:00</td>\n      <td>5</td>\n      <td>0 days 01:00:00</td>\n      <td>True</td>\n    </tr>\n    <tr>\n      <th>99</th>\n      <td>-0.895508</td>\n      <td>-0.099314</td>\n      <td>0</td>\n      <td>bar</td>\n      <td>2018-01-05 03:00:00</td>\n      <td>5</td>\n      <td>0 days 06:00:00</td>\n      <td>False</td>\n    </tr>\n  </tbody>\n</table>\n<p>100 rows × 8 columns</p>\n</div>"
     },
     "metadata": {},
     "execution_count": 5
    }
   ],
   "source": [
    "df2"
   ]
  },
  {
   "cell_type": "markdown",
   "metadata": {},
   "source": [
    "## Discover subgroups\n",
    "\n",
    "Below is the minimal code to perform subgroup discovery on a pandas dataframe (and then convert the results into a new dataframe for easier viewing)."
   ]
  },
  {
   "cell_type": "code",
   "execution_count": 7,
   "metadata": {},
   "outputs": [
    {
     "output_type": "execute_result",
     "data": {
      "text/plain": [
       "                                              pattern  target_quantity  size  \\\n",
       "0                     I = False AND -0.39 <= B < 1.20         0.510049  22.0   \n",
       "1                             7.00 <= G AND C < 85.00         0.398511  25.0   \n",
       "2                               B < -0.39 AND D = foo         0.419648  22.0   \n",
       "3                       -0.39 <= B < 1.20 AND D = foo         0.446286  20.0   \n",
       "4               7.00 <= G AND E < 2018-01-02 09:00:00         0.837023   9.0   \n",
       "5   7.00 <= G AND E < 2018-01-02 09:00:00 AND D = foo         0.837023   9.0   \n",
       "6                                             D = foo         0.240161  50.0   \n",
       "7   7.00 <= G AND E < 2018-01-02 09:00:00 AND C < ...         0.871826   8.0   \n",
       "8       E < 2018-01-02 09:00:00 AND -0.39 <= B < 1.20         0.579090  13.0   \n",
       "9   E < 2018-01-02 09:00:00 AND -0.39 <= B < 1.20 ...         0.579090  13.0   \n",
       "10      I = False AND -0.39 <= B < 1.20 AND C < 85.00         0.490723  16.0   \n",
       "11    I = False AND H < 0 days 03:40:00 AND C < 85.00         0.447123  18.0   \n",
       "12                    D = foo AND H < 0 days 03:40:00         0.350386  25.0   \n",
       "13  I = False AND H < 0 days 03:40:00 AND -0.39 <=...         0.822357   8.0   \n",
       "14  7.00 <= G AND E < 2018-01-02 09:00:00 AND I = ...         1.046549   6.0   \n",
       "15                    7.00 <= G AND -0.39 <= B < 1.20         0.514082  14.0   \n",
       "16      D = foo AND H < 0 days 03:40:00 AND C < 85.00         0.365490  22.0   \n",
       "17      7.00 <= G AND -0.39 <= B < 1.20 AND C < 85.00         0.570312  12.0   \n",
       "18              7.00 <= G AND I = False AND C < 85.00         0.474609  15.0   \n",
       "19                B < -0.39 AND D = foo AND C < 85.00         0.380082  20.0   \n",
       "\n",
       "     quality  \n",
       "0   8.691860  \n",
       "1   7.088667  \n",
       "2   6.703037  \n",
       "3   6.626439  \n",
       "4   6.498527  \n",
       "5   6.498527  \n",
       "6   6.259861  \n",
       "7   6.054897  \n",
       "8   6.033635  \n",
       "9   6.033635  \n",
       "10  6.012137  \n",
       "11  5.978865  \n",
       "12  5.885550  \n",
       "13  5.659145  \n",
       "14  5.589512  \n",
       "15  5.587647  \n",
       "16  5.511570  \n",
       "17  5.464181  \n",
       "18  5.394680  \n",
       "19  5.302350  "
      ],
      "text/html": "<div>\n<style scoped>\n    .dataframe tbody tr th:only-of-type {\n        vertical-align: middle;\n    }\n\n    .dataframe tbody tr th {\n        vertical-align: top;\n    }\n\n    .dataframe thead th {\n        text-align: right;\n    }\n</style>\n<table border=\"1\" class=\"dataframe\">\n  <thead>\n    <tr style=\"text-align: right;\">\n      <th></th>\n      <th>pattern</th>\n      <th>target_quantity</th>\n      <th>size</th>\n      <th>quality</th>\n    </tr>\n  </thead>\n  <tbody>\n    <tr>\n      <th>0</th>\n      <td>I = False AND -0.39 &lt;= B &lt; 1.20</td>\n      <td>0.510049</td>\n      <td>22.0</td>\n      <td>8.691860</td>\n    </tr>\n    <tr>\n      <th>1</th>\n      <td>7.00 &lt;= G AND C &lt; 85.00</td>\n      <td>0.398511</td>\n      <td>25.0</td>\n      <td>7.088667</td>\n    </tr>\n    <tr>\n      <th>2</th>\n      <td>B &lt; -0.39 AND D = foo</td>\n      <td>0.419648</td>\n      <td>22.0</td>\n      <td>6.703037</td>\n    </tr>\n    <tr>\n      <th>3</th>\n      <td>-0.39 &lt;= B &lt; 1.20 AND D = foo</td>\n      <td>0.446286</td>\n      <td>20.0</td>\n      <td>6.626439</td>\n    </tr>\n    <tr>\n      <th>4</th>\n      <td>7.00 &lt;= G AND E &lt; 2018-01-02 09:00:00</td>\n      <td>0.837023</td>\n      <td>9.0</td>\n      <td>6.498527</td>\n    </tr>\n    <tr>\n      <th>5</th>\n      <td>7.00 &lt;= G AND E &lt; 2018-01-02 09:00:00 AND D = foo</td>\n      <td>0.837023</td>\n      <td>9.0</td>\n      <td>6.498527</td>\n    </tr>\n    <tr>\n      <th>6</th>\n      <td>D = foo</td>\n      <td>0.240161</td>\n      <td>50.0</td>\n      <td>6.259861</td>\n    </tr>\n    <tr>\n      <th>7</th>\n      <td>7.00 &lt;= G AND E &lt; 2018-01-02 09:00:00 AND C &lt; ...</td>\n      <td>0.871826</td>\n      <td>8.0</td>\n      <td>6.054897</td>\n    </tr>\n    <tr>\n      <th>8</th>\n      <td>E &lt; 2018-01-02 09:00:00 AND -0.39 &lt;= B &lt; 1.20</td>\n      <td>0.579090</td>\n      <td>13.0</td>\n      <td>6.033635</td>\n    </tr>\n    <tr>\n      <th>9</th>\n      <td>E &lt; 2018-01-02 09:00:00 AND -0.39 &lt;= B &lt; 1.20 ...</td>\n      <td>0.579090</td>\n      <td>13.0</td>\n      <td>6.033635</td>\n    </tr>\n    <tr>\n      <th>10</th>\n      <td>I = False AND -0.39 &lt;= B &lt; 1.20 AND C &lt; 85.00</td>\n      <td>0.490723</td>\n      <td>16.0</td>\n      <td>6.012137</td>\n    </tr>\n    <tr>\n      <th>11</th>\n      <td>I = False AND H &lt; 0 days 03:40:00 AND C &lt; 85.00</td>\n      <td>0.447123</td>\n      <td>18.0</td>\n      <td>5.978865</td>\n    </tr>\n    <tr>\n      <th>12</th>\n      <td>D = foo AND H &lt; 0 days 03:40:00</td>\n      <td>0.350386</td>\n      <td>25.0</td>\n      <td>5.885550</td>\n    </tr>\n    <tr>\n      <th>13</th>\n      <td>I = False AND H &lt; 0 days 03:40:00 AND -0.39 &lt;=...</td>\n      <td>0.822357</td>\n      <td>8.0</td>\n      <td>5.659145</td>\n    </tr>\n    <tr>\n      <th>14</th>\n      <td>7.00 &lt;= G AND E &lt; 2018-01-02 09:00:00 AND I = ...</td>\n      <td>1.046549</td>\n      <td>6.0</td>\n      <td>5.589512</td>\n    </tr>\n    <tr>\n      <th>15</th>\n      <td>7.00 &lt;= G AND -0.39 &lt;= B &lt; 1.20</td>\n      <td>0.514082</td>\n      <td>14.0</td>\n      <td>5.587647</td>\n    </tr>\n    <tr>\n      <th>16</th>\n      <td>D = foo AND H &lt; 0 days 03:40:00 AND C &lt; 85.00</td>\n      <td>0.365490</td>\n      <td>22.0</td>\n      <td>5.511570</td>\n    </tr>\n    <tr>\n      <th>17</th>\n      <td>7.00 &lt;= G AND -0.39 &lt;= B &lt; 1.20 AND C &lt; 85.00</td>\n      <td>0.570312</td>\n      <td>12.0</td>\n      <td>5.464181</td>\n    </tr>\n    <tr>\n      <th>18</th>\n      <td>7.00 &lt;= G AND I = False AND C &lt; 85.00</td>\n      <td>0.474609</td>\n      <td>15.0</td>\n      <td>5.394680</td>\n    </tr>\n    <tr>\n      <th>19</th>\n      <td>B &lt; -0.39 AND D = foo AND C &lt; 85.00</td>\n      <td>0.380082</td>\n      <td>20.0</td>\n      <td>5.302350</td>\n    </tr>\n  </tbody>\n</table>\n</div>"
     },
     "metadata": {},
     "execution_count": 7
    }
   ],
   "source": [
    "sd4py.discover_subgroups(df2, \"A\").to_df()"
   ]
  },
  {
   "cell_type": "markdown",
   "metadata": {},
   "source": [
    "### Examples using more parameters\n",
    "\n",
    "The below examples show the use of a more complex combination of parameters"
   ]
  },
  {
   "cell_type": "code",
   "execution_count": 9,
   "metadata": {},
   "outputs": [
    {
     "output_type": "execute_result",
     "data": {
      "text/plain": [
       "                                      pattern  target_quantity  size   quality\n",
       "0                         H < 0 days 02:36:00         0.750000  40.0  0.124511\n",
       "1   -0.07 <= B < 0.88 AND H < 0 days 02:36:00         0.812500  16.0  0.057214\n",
       "2   -0.52 <= A < 0.39 AND H < 0 days 02:36:00         0.833333  12.0  0.047251\n",
       "3  -1.03 <= B < -0.07 AND H < 0 days 02:36:00         0.818182  11.0  0.038731\n",
       "4  -1.43 <= A < -0.52 AND H < 0 days 02:36:00         0.857143   7.0  0.030523"
      ],
      "text/html": "<div>\n<style scoped>\n    .dataframe tbody tr th:only-of-type {\n        vertical-align: middle;\n    }\n\n    .dataframe tbody tr th {\n        vertical-align: top;\n    }\n\n    .dataframe thead th {\n        text-align: right;\n    }\n</style>\n<table border=\"1\" class=\"dataframe\">\n  <thead>\n    <tr style=\"text-align: right;\">\n      <th></th>\n      <th>pattern</th>\n      <th>target_quantity</th>\n      <th>size</th>\n      <th>quality</th>\n    </tr>\n  </thead>\n  <tbody>\n    <tr>\n      <th>0</th>\n      <td>H &lt; 0 days 02:36:00</td>\n      <td>0.750000</td>\n      <td>40.0</td>\n      <td>0.124511</td>\n    </tr>\n    <tr>\n      <th>1</th>\n      <td>-0.07 &lt;= B &lt; 0.88 AND H &lt; 0 days 02:36:00</td>\n      <td>0.812500</td>\n      <td>16.0</td>\n      <td>0.057214</td>\n    </tr>\n    <tr>\n      <th>2</th>\n      <td>-0.52 &lt;= A &lt; 0.39 AND H &lt; 0 days 02:36:00</td>\n      <td>0.833333</td>\n      <td>12.0</td>\n      <td>0.047251</td>\n    </tr>\n    <tr>\n      <th>3</th>\n      <td>-1.03 &lt;= B &lt; -0.07 AND H &lt; 0 days 02:36:00</td>\n      <td>0.818182</td>\n      <td>11.0</td>\n      <td>0.038731</td>\n    </tr>\n    <tr>\n      <th>4</th>\n      <td>-1.43 &lt;= A &lt; -0.52 AND H &lt; 0 days 02:36:00</td>\n      <td>0.857143</td>\n      <td>7.0</td>\n      <td>0.030523</td>\n    </tr>\n  </tbody>\n</table>\n</div>"
     },
     "metadata": {},
     "execution_count": 9
    }
   ],
   "source": [
    "sd4py.discover_subgroups(\n",
    "    df2, \n",
    "    target=\"I\",\n",
    "    included_attributes=[\"B\", \"E\", \"H\", \"I\", \"A\"],\n",
    "    nbins=5,\n",
    "    method=\"bsd\",\n",
    "    qf=\"gain\",\n",
    "    k=100,\n",
    "    minqual=0,\n",
    "    minsize=0,\n",
    "    mintp=1,\n",
    "    max_selectors=7,\n",
    "    ignore_defaults=True,\n",
    "    filter_irrelevant=True,\n",
    "    postfilter=\"weighted_covering\",\n",
    "    postfilter_param=5\n",
    ").to_df()"
   ]
  },
  {
   "cell_type": "code",
   "execution_count": 16,
   "metadata": {},
   "outputs": [
    {
     "data": {
      "text/html": [
       "<div>\n",
       "<style scoped>\n",
       "    .dataframe tbody tr th:only-of-type {\n",
       "        vertical-align: middle;\n",
       "    }\n",
       "\n",
       "    .dataframe tbody tr th {\n",
       "        vertical-align: top;\n",
       "    }\n",
       "\n",
       "    .dataframe thead th {\n",
       "        text-align: right;\n",
       "    }\n",
       "</style>\n",
       "<table border=\"1\" class=\"dataframe\">\n",
       "  <thead>\n",
       "    <tr style=\"text-align: right;\">\n",
       "      <th></th>\n",
       "      <th>pattern</th>\n",
       "      <th>target_quantity</th>\n",
       "      <th>size</th>\n",
       "      <th>quality</th>\n",
       "    </tr>\n",
       "  </thead>\n",
       "  <tbody>\n",
       "    <tr>\n",
       "      <th>0</th>\n",
       "      <td>-1.30 &lt;= B &lt; -0.37</td>\n",
       "      <td>0.273844</td>\n",
       "      <td>26.0</td>\n",
       "      <td>0.083587</td>\n",
       "    </tr>\n",
       "    <tr>\n",
       "      <th>1</th>\n",
       "      <td>2018-01-01 19:48:00 &lt;= E &lt; 2018-01-02 15:36:00...</td>\n",
       "      <td>1.215495</td>\n",
       "      <td>3.0</td>\n",
       "      <td>0.037894</td>\n",
       "    </tr>\n",
       "    <tr>\n",
       "      <th>2</th>\n",
       "      <td>0 days 02:36:00 &lt;= H &lt; 0 days 04:12:00</td>\n",
       "      <td>0.253949</td>\n",
       "      <td>10.0</td>\n",
       "      <td>0.030159</td>\n",
       "    </tr>\n",
       "    <tr>\n",
       "      <th>3</th>\n",
       "      <td>2018-01-02 15:36:00 &lt;= E &lt; 2018-01-03 11:24:00...</td>\n",
       "      <td>0.638306</td>\n",
       "      <td>4.0</td>\n",
       "      <td>0.027438</td>\n",
       "    </tr>\n",
       "    <tr>\n",
       "      <th>4</th>\n",
       "      <td>H &lt; 0 days 02:36:00 AND -0.37 &lt;= B &lt; 0.57 AND ...</td>\n",
       "      <td>0.484155</td>\n",
       "      <td>5.0</td>\n",
       "      <td>0.026590</td>\n",
       "    </tr>\n",
       "    <tr>\n",
       "      <th>5</th>\n",
       "      <td>B &lt; -1.30 AND I = False</td>\n",
       "      <td>0.837565</td>\n",
       "      <td>3.0</td>\n",
       "      <td>0.026556</td>\n",
       "    </tr>\n",
       "    <tr>\n",
       "      <th>6</th>\n",
       "      <td>-1.30 &lt;= B &lt; -0.37 AND E &lt; 2018-01-01 19:48:00</td>\n",
       "      <td>0.607468</td>\n",
       "      <td>4.0</td>\n",
       "      <td>0.026204</td>\n",
       "    </tr>\n",
       "    <tr>\n",
       "      <th>7</th>\n",
       "      <td>0 days 02:36:00 &lt;= H &lt; 0 days 04:12:00 AND E &lt;...</td>\n",
       "      <td>1.175293</td>\n",
       "      <td>2.0</td>\n",
       "      <td>0.024459</td>\n",
       "    </tr>\n",
       "    <tr>\n",
       "      <th>8</th>\n",
       "      <td>0.57 &lt;= B &lt; 1.50 AND 0 days 02:36:00 &lt;= H &lt; 0 ...</td>\n",
       "      <td>1.074707</td>\n",
       "      <td>2.0</td>\n",
       "      <td>0.022447</td>\n",
       "    </tr>\n",
       "    <tr>\n",
       "      <th>9</th>\n",
       "      <td>0.57 &lt;= B &lt; 1.50 AND 2018-01-03 11:24:00 &lt;= E ...</td>\n",
       "      <td>0.493958</td>\n",
       "      <td>4.0</td>\n",
       "      <td>0.021664</td>\n",
       "    </tr>\n",
       "    <tr>\n",
       "      <th>10</th>\n",
       "      <td>2018-01-01 19:48:00 &lt;= E &lt; 2018-01-02 15:36:00...</td>\n",
       "      <td>0.879333</td>\n",
       "      <td>2.0</td>\n",
       "      <td>0.018540</td>\n",
       "    </tr>\n",
       "    <tr>\n",
       "      <th>11</th>\n",
       "      <td>H &lt; 0 days 02:36:00 AND I = False AND 2018-01-...</td>\n",
       "      <td>0.820557</td>\n",
       "      <td>2.0</td>\n",
       "      <td>0.017364</td>\n",
       "    </tr>\n",
       "    <tr>\n",
       "      <th>12</th>\n",
       "      <td>-1.30 &lt;= B &lt; -0.37 AND I = True AND 2018-01-02...</td>\n",
       "      <td>0.810303</td>\n",
       "      <td>2.0</td>\n",
       "      <td>0.017159</td>\n",
       "    </tr>\n",
       "    <tr>\n",
       "      <th>13</th>\n",
       "      <td>2018-01-02 15:36:00 &lt;= E &lt; 2018-01-03 11:24:00...</td>\n",
       "      <td>0.687286</td>\n",
       "      <td>2.0</td>\n",
       "      <td>0.014699</td>\n",
       "    </tr>\n",
       "  </tbody>\n",
       "</table>\n",
       "</div>"
      ],
      "text/plain": [
       "                                              pattern  target_quantity  size  \\\n",
       "0                                  -1.30 <= B < -0.37         0.273844  26.0   \n",
       "1   2018-01-01 19:48:00 <= E < 2018-01-02 15:36:00...         1.215495   3.0   \n",
       "2              0 days 02:36:00 <= H < 0 days 04:12:00         0.253949  10.0   \n",
       "3   2018-01-02 15:36:00 <= E < 2018-01-03 11:24:00...         0.638306   4.0   \n",
       "4   H < 0 days 02:36:00 AND -0.37 <= B < 0.57 AND ...         0.484155   5.0   \n",
       "5                             B < -1.30 AND I = False         0.837565   3.0   \n",
       "6      -1.30 <= B < -0.37 AND E < 2018-01-01 19:48:00         0.607468   4.0   \n",
       "7   0 days 02:36:00 <= H < 0 days 04:12:00 AND E <...         1.175293   2.0   \n",
       "8   0.57 <= B < 1.50 AND 0 days 02:36:00 <= H < 0 ...         1.074707   2.0   \n",
       "9   0.57 <= B < 1.50 AND 2018-01-03 11:24:00 <= E ...         0.493958   4.0   \n",
       "10  2018-01-01 19:48:00 <= E < 2018-01-02 15:36:00...         0.879333   2.0   \n",
       "11  H < 0 days 02:36:00 AND I = False AND 2018-01-...         0.820557   2.0   \n",
       "12  -1.30 <= B < -0.37 AND I = True AND 2018-01-02...         0.810303   2.0   \n",
       "13  2018-01-02 15:36:00 <= E < 2018-01-03 11:24:00...         0.687286   2.0   \n",
       "\n",
       "     quality  \n",
       "0   0.083587  \n",
       "1   0.037894  \n",
       "2   0.030159  \n",
       "3   0.027438  \n",
       "4   0.026590  \n",
       "5   0.026556  \n",
       "6   0.026204  \n",
       "7   0.024459  \n",
       "8   0.022447  \n",
       "9   0.021664  \n",
       "10  0.018540  \n",
       "11  0.017364  \n",
       "12  0.017159  \n",
       "13  0.014699  "
      ]
     },
     "execution_count": 16,
     "metadata": {},
     "output_type": "execute_result"
    }
   ],
   "source": [
    "sd4py.discover_subgroups(\n",
    "    df2, \n",
    "    target=\"A\",\n",
    "    included_attributes=[\"B\", \"E\", \"H\", \"I\", \"A\"],\n",
    "    nbins=5,\n",
    "    method=\"beam\",\n",
    "    qf=\"wracc\",\n",
    "    k=50,\n",
    "    minqual=0,\n",
    "    minsize=2,\n",
    "    mintp=0,\n",
    "    max_selectors=7,\n",
    "    ignore_defaults=False,\n",
    "    filter_irrelevant=False,\n",
    "    postfilter=\"min_improve_global\",\n",
    "    postfilter_param=0.3\n",
    ").to_df()"
   ]
  },
  {
   "cell_type": "markdown",
   "metadata": {},
   "source": [
    "### Selecting rows from a dataframe based on a subgroup\n",
    "\n",
    "After finding subgroups, it is possible to use them to select rows from a dataframe (i.e. select rows matching the pattern). \n",
    "\n",
    "This can be done on the same dataframe that was originally used to discover subgroups, or another dataframe with the same columns (which might be useful if, e.g., using a train/test split). "
   ]
  },
  {
   "cell_type": "code",
   "execution_count": 10,
   "metadata": {},
   "outputs": [
    {
     "output_type": "error",
     "ename": "NameError",
     "evalue": "name 'pySubgroup' is not defined",
     "traceback": [
      "\u001b[0;31m---------------------------------------------------------------------------\u001b[0m",
      "\u001b[0;31mNameError\u001b[0m                                 Traceback (most recent call last)",
      "\u001b[0;32m<ipython-input-10-e7c4ef3d3977>\u001b[0m in \u001b[0;36m<module>\u001b[0;34m\u001b[0m\n\u001b[0;32m----> 1\u001b[0;31m \u001b[0mresults\u001b[0m \u001b[0;34m=\u001b[0m \u001b[0mpySubgroup\u001b[0m\u001b[0;34m.\u001b[0m\u001b[0mdiscover_subgroups\u001b[0m\u001b[0;34m(\u001b[0m\u001b[0mdf2\u001b[0m\u001b[0;34m,\u001b[0m \u001b[0;34m\"A\"\u001b[0m\u001b[0;34m)\u001b[0m\u001b[0;34m\u001b[0m\u001b[0;34m\u001b[0m\u001b[0m\n\u001b[0m\u001b[1;32m      2\u001b[0m \u001b[0;34m\u001b[0m\u001b[0m\n\u001b[1;32m      3\u001b[0m \u001b[0;31m## Select rows based on the first subgroup\u001b[0m\u001b[0;34m\u001b[0m\u001b[0;34m\u001b[0m\u001b[0;34m\u001b[0m\u001b[0m\n\u001b[1;32m      4\u001b[0m \u001b[0mprint\u001b[0m\u001b[0;34m(\u001b[0m\u001b[0mresults\u001b[0m\u001b[0;34m.\u001b[0m\u001b[0msubgroups\u001b[0m\u001b[0;34m[\u001b[0m\u001b[0;36m0\u001b[0m\u001b[0;34m]\u001b[0m\u001b[0;34m)\u001b[0m\u001b[0;34m\u001b[0m\u001b[0;34m\u001b[0m\u001b[0m\n\u001b[1;32m      5\u001b[0m \u001b[0;34m\u001b[0m\u001b[0m\n",
      "\u001b[0;31mNameError\u001b[0m: name 'pySubgroup' is not defined"
     ]
    }
   ],
   "source": [
    "results = sd4py.discover_subgroups(df2, \"A\")\n",
    "\n",
    "## Select rows based on the first subgroup\n",
    "print(results.subgroups[0])\n",
    "\n",
    "results.subgroups[0].get_rows(df2)"
   ]
  },
  {
   "cell_type": "code",
   "execution_count": null,
   "metadata": {},
   "outputs": [],
   "source": []
  }
 ],
 "metadata": {
  "kernelspec": {
   "display_name": "Python 3",
   "language": "python",
   "name": "python3"
  },
  "language_info": {
   "codemirror_mode": {
    "name": "ipython",
    "version": 3
   },
   "file_extension": ".py",
   "mimetype": "text/x-python",
   "name": "python",
   "nbconvert_exporter": "python",
   "pygments_lexer": "ipython3",
   "version": "3.9.4-final"
  }
 },
 "nbformat": 4,
 "nbformat_minor": 2
}